{
 "cells": [
  {
   "cell_type": "code",
   "execution_count": null,
   "metadata": {},
   "outputs": [],
   "source": [
    "# Importing the required Python libraries\n",
    "import numpy as np\n",
    "from tensorflow.keras.models import load_model\n",
    "\n",
    "import lstm_model_modules as lmm"
   ]
  },
  {
   "cell_type": "code",
   "execution_count": null,
   "metadata": {},
   "outputs": [],
   "source": [
    "testing_file_path = 'test_data.csv'\n",
    "# Extracting only the demand column \n",
    "test_demand_column = lmm.get_demand_column(testing_file_path)"
   ]
  },
  {
   "cell_type": "code",
   "execution_count": null,
   "metadata": {},
   "outputs": [],
   "source": [
    "# Getting the scaling factor using the training dataset\n",
    "training_file_path = 'train_data.csv'\n",
    "scaler = lmm.return_scaler(training_file_path)\n",
    "\n",
    "# Scaling the train and validation sets\n",
    "test_scaled = test_demand_column * scaler"
   ]
  },
  {
   "cell_type": "code",
   "execution_count": null,
   "metadata": {},
   "outputs": [],
   "source": [
    "# Calling the \"create_dataset\" function for the test set and the same lookback range \n",
    "look_back = 336\n",
    "X_test, Y_test = lmm.create_dataset(test_scaled, look_back)"
   ]
  },
  {
   "cell_type": "code",
   "execution_count": null,
   "metadata": {},
   "outputs": [],
   "source": [
    "# Loading the model for testing\n",
    "model = load_model(\"model_using_only_demand_col.h5\")"
   ]
  },
  {
   "cell_type": "code",
   "execution_count": null,
   "metadata": {},
   "outputs": [],
   "source": [
    "# Testing the LSTM model:\n",
    "predictions = model.predict(X_test)\n",
    "\n",
    "# Unscaling the predictions and the real values of the demand\n",
    "predictions /= scaler\n",
    "Y_test /= scaler"
   ]
  },
  {
   "cell_type": "code",
   "execution_count": null,
   "metadata": {},
   "outputs": [],
   "source": [
    "# Calculating the root mean squared error (RMSE):\n",
    "rmse = np.sqrt(np.mean((predictions - Y_test) ** 2))\n",
    "print('Test RMSE: %.2f' % rmse)"
   ]
  },
  {
   "cell_type": "code",
   "execution_count": null,
   "metadata": {},
   "outputs": [],
   "source": [
    "# Plotting real demand values vs the predicted ones using the test data\n",
    "lmm.real_values_vs_predictions(testing_file_path, predictions, look_back)"
   ]
  }
 ],
 "metadata": {
  "language_info": {
   "name": "python"
  },
  "orig_nbformat": 4
 },
 "nbformat": 4,
 "nbformat_minor": 2
}
