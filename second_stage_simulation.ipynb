{
  "cells": [
    {
      "cell_type": "code",
      "execution_count": null,
      "metadata": {
        "id": "IDjMqYu2NLcd"
      },
      "outputs": [],
      "source": [
        "import data_simulation_modules as dsm\n",
        "import plotly.express as px"
      ]
    },
    {
      "cell_type": "code",
      "execution_count": null,
      "metadata": {
        "id": "9mwqXs0NNY_U"
      },
      "outputs": [],
      "source": [
        "temp_df = dsm.generate_demand(nr_days = 28, randomness_level = 3, peak_randomness = 4)\n",
        "px.scatter(temp_df, x = 'Hour', y = 'Demand', hover_data = ['Specific hour', 'Day of week'])\n",
        "temp_df.to_csv('updated_demand.csv', index=False)"
      ]
    },
    {
      "cell_type": "code",
      "execution_count": null,
      "metadata": {},
      "outputs": [],
      "source": [
        "temp_df = dsm.generate_demand(nr_days = 50, randomness_level = 3, peak_randomness = 4)\n",
        "temp_df.to_csv('test_data.csv', index=False)"
      ]
    }
  ],
  "metadata": {
    "colab": {
      "provenance": []
    },
    "kernelspec": {
      "display_name": "Python 3",
      "name": "python3"
    },
    "language_info": {
      "name": "python",
      "version": "3.11.2"
    }
  },
  "nbformat": 4,
  "nbformat_minor": 0
}
