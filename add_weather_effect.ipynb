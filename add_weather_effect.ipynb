{
 "cells": [
  {
   "cell_type": "code",
   "execution_count": null,
   "metadata": {},
   "outputs": [],
   "source": [
    "# Importing the required Python libraries\n",
    "import pandas as pd\n",
    "import numpy as np\n",
    "import os"
   ]
  },
  {
   "cell_type": "code",
   "execution_count": null,
   "metadata": {},
   "outputs": [],
   "source": [
    "# Folder path containing the CSV files\n",
    "folder_path = 'bremen_weather_datasets/'\n",
    "\n",
    "# Initializing an empty list to store the DataFrames\n",
    "dataframes = []\n",
    "\n",
    "# Iterating over the files in the folder\n",
    "for filename in os.listdir(folder_path):\n",
    "    if filename.endswith('.csv'):\n",
    "        file_path = os.path.join(folder_path, filename)\n",
    "        df = pd.read_csv(file_path)\n",
    "        dataframes.append(df)\n",
    "\n",
    "# Merging the DataFrames together\n",
    "weather_df = pd.concat(dataframes)\n",
    "\n",
    "# Sorting the dataframe based on \"datetime\" column\n",
    "weather_df = weather_df.sort_values(by='datetime')"
   ]
  },
  {
   "cell_type": "code",
   "execution_count": null,
   "metadata": {},
   "outputs": [],
   "source": [
    "# Keeping only the columns representing weather features that can have some impact towards the car sharing demand\n",
    "weather_df = weather_df[['datetime', 'temp', 'windspeed', 'visibility', 'conditions']]\n",
    "weather_df"
   ]
  },
  {
   "cell_type": "code",
   "execution_count": null,
   "metadata": {},
   "outputs": [],
   "source": [
    "# Resetting the index of weather dataframe and droping the existing index.\n",
    "weather_df = weather_df.reset_index(drop=True)\n",
    "weather_df"
   ]
  },
  {
   "cell_type": "code",
   "execution_count": null,
   "metadata": {},
   "outputs": [],
   "source": [
    "# Importing the simulated dataset containing demand, respective hour and day of the week\n",
    "train_df = pd.read_csv('train_data.csv')\n",
    "train_df"
   ]
  },
  {
   "cell_type": "code",
   "execution_count": null,
   "metadata": {},
   "outputs": [],
   "source": [
    "# Converting the first value (corresponding to January 1st 2022) of the \"datetime\" column, to datetime format\n",
    "jan_1_2022 = pd.to_datetime(weather_df.iloc[0]['datetime'])\n",
    "\n",
    "# Getting the weekday name from the datetime value\n",
    "weekday_name = jan_1_2022.day_name()\n",
    "weekday_name"
   ]
  },
  {
   "cell_type": "code",
   "execution_count": null,
   "metadata": {},
   "outputs": [],
   "source": [
    "# Since the train dataset starts from Monday, we need to remove the records of the weather dataframe\n",
    "# corresponding to Saturday and Sunday. 2 days are equal to 48 hourly weather records.\n",
    "# Removing first 48 records from the weather dataset\n",
    "weather_df = weather_df.drop(weather_df.index[:48])\n",
    "\n",
    "# Removing the same number of records (48 last records) from the train dataset, since we need to concatenate them\n",
    "train_df = train_df.head(len(weather_df))"
   ]
  },
  {
   "cell_type": "code",
   "execution_count": null,
   "metadata": {},
   "outputs": [],
   "source": [
    "# Resetting the index of weather dataframe and droping the existing index.\n",
    "weather_df = weather_df.reset_index(drop=True)\n",
    "weather_df"
   ]
  },
  {
   "cell_type": "code",
   "execution_count": null,
   "metadata": {},
   "outputs": [],
   "source": [
    "new_train_df = pd.concat([train_df, weather_df], axis=1)\n",
    "new_train_df"
   ]
  },
  {
   "cell_type": "code",
   "execution_count": null,
   "metadata": {},
   "outputs": [],
   "source": [
    "# Determining the heavy rain conditions\n",
    "heavy_rain_first_condition = new_train_df['Specific hour'].isin(list(range(7, 13)))\n",
    "heavy_rain_sec_condition = new_train_df['conditions'].isin(['Rain, Overcast', 'Rain, Partially cloudy'])"
   ]
  },
  {
   "cell_type": "code",
   "execution_count": null,
   "metadata": {},
   "outputs": [],
   "source": [
    "# Modifying the demand value accordingly\n",
    "new_train_df.loc[heavy_rain_first_condition & heavy_rain_sec_condition, 'Demand'] *= 0.8\n",
    "new_train_df"
   ]
  },
  {
   "cell_type": "code",
   "execution_count": null,
   "metadata": {},
   "outputs": [],
   "source": [
    "# Determining the light rain conditions\n",
    "light_rain_first_condition = new_train_df['Specific hour'].isin(list(range(13, 18)))\n",
    "light_rain_sec_condition = new_train_df['conditions'].isin(['Rain', 'Partially cloudy', 'Overcast'])"
   ]
  },
  {
   "cell_type": "code",
   "execution_count": null,
   "metadata": {},
   "outputs": [],
   "source": [
    "# Modifying the demand value accordingly\n",
    "new_train_df.loc[light_rain_first_condition & light_rain_sec_condition, 'Demand'] *= 1.1\n",
    "new_train_df"
   ]
  },
  {
   "cell_type": "code",
   "execution_count": null,
   "metadata": {},
   "outputs": [],
   "source": [
    "# Converting the values of the \"demand\" column from float to int\n",
    "new_train_df['Demand'] = new_train_df['Demand'].round().astype(int)"
   ]
  },
  {
   "cell_type": "code",
   "execution_count": null,
   "metadata": {},
   "outputs": [],
   "source": [
    "new_train_df.to_csv('new_train_data.csv', index=False)"
   ]
  }
 ],
 "metadata": {
  "language_info": {
   "name": "python"
  },
  "orig_nbformat": 4
 },
 "nbformat": 4,
 "nbformat_minor": 2
}
