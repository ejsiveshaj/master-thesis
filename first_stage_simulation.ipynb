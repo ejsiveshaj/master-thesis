{
  "cells": [
    {
      "cell_type": "code",
      "execution_count": null,
      "metadata": {
        "id": "AHabOdXU181n"
      },
      "outputs": [],
      "source": [
        "import numpy as np\n",
        "import plotly.express as px\n",
        "import pandas as pd\n",
        "import plotly.graph_objects as go"
      ]
    },
    {
      "cell_type": "code",
      "execution_count": null,
      "metadata": {
        "id": "c8iBw4_e1nJY"
      },
      "outputs": [],
      "source": [
        "def cosine_distribution(frequency, amplitude, phase, bias):\n",
        "  \"\"\"\n",
        "  Generates a cosine distribution with given frequency, amplitude, phase and bias values \n",
        "  and returns the respective numpy array of generated values.\n",
        "  \"\"\"\n",
        "    \n",
        "  # Only the first 8 hours of the daily demand look like a cosine distribution. \n",
        "  # So 1 period of the cosine distribution will represent 1/3 of the daily demand (hours 0-7).\n",
        "  # Therefore, generating 24 x values, is equal to 3 periods of the cosine distribution.\n",
        "  x = np.linspace(0, 3 * 2 * np.pi / frequency, 24) # period = 2 * np.pi / frequency\n",
        "\n",
        "  # Generating 24 data points using the cosine distribution\n",
        "  y = amplitude * np.cos(frequency * x + phase) + bias\n",
        "\n",
        "  # Adding random noise  \n",
        "  y += np.random.normal(0, 0.1, 24) * amplitude\n",
        "\n",
        "  return y"
      ]
    },
    {
      "cell_type": "code",
      "execution_count": null,
      "metadata": {
        "id": "IQoXCm4k0Sxu"
      },
      "outputs": [],
      "source": [
        "def generate_peak(peak_val, respective_h, diff_between_max_min):\n",
        "  \"\"\"\n",
        "    Generates a normal distribution with given mean ('respective_h') and\n",
        "    then transforms it so that it represents the daily demand, where 'peak_val' is its\n",
        "    peak value, 'respective_h' is the respective peak's hour and 'diff_between_max_min' is the \n",
        "    difference between the max and min demand values during the time interval (8-15 hour). \n",
        "    It returns the respective numpy array containing the daily demand values for each hour.  \n",
        "  \"\"\"\n",
        "\n",
        "  mean = respective_h\n",
        "  std = 0.2 * mean\n",
        "\n",
        "  # Numpy array containing hours from 0 to 23.\n",
        "  x = np.arange(24)\n",
        "  \n",
        "  # Gaussian distribution equation which produces probability values.\n",
        "  # x = mean value, corresponds with the highest probability value\n",
        "  y = 1/(std * np.sqrt(2 * np.pi)) * np.exp(-1/2 * ((x - mean) / std) ** 2)\n",
        "\n",
        "  # Probability values are between 0 and 1, but we need them to represent demand values,\n",
        "  # where the difference between the max and min values is 'diff_between_max_min'. \n",
        "  y *= (diff_between_max_min / np.max(y))\n",
        "\n",
        "  # If the data distribution still doesn't include the peak value, we transform it again,\n",
        "  # by shifting the values vertically till we make that possible.\n",
        "  y += (peak_val - np.max(y)) \n",
        "\n",
        "  # Adding some random noise.\n",
        "  y += np.random.normal(0, 0.1, 24) * diff_between_max_min/2\n",
        "\n",
        "  return y"
      ]
    },
    {
      "cell_type": "code",
      "execution_count": null,
      "metadata": {
        "id": "B2q5zmao0Vtz"
      },
      "outputs": [],
      "source": [
        "def generate_daily_demand():\n",
        "  \"\"\"\n",
        "    Generates the daily demand for car sharing service in a german city. It uses the helper functions\n",
        "    defined above and returns a numpy array containing the hourly demand values (23 values) for a day, \n",
        "    the maximum demand value during the day and the respective hour.\n",
        "  \"\"\"\n",
        "\n",
        "  # Setting the parameters for the cosine distribution, to imitate the first 8 hours of the daily demand\n",
        "  # whose values are between 0 and 95\n",
        "  frequency = 0.5    # Frequency of the cosine wave\n",
        "  amplitude = 45    # Amplitude of the cosine wave, to scale from (-1, 1) to (-45, 45)\n",
        "  phase = 0.0        # Phase shift of the cosine wave\n",
        "  bias = 50         # Bias needed to shift the plot up 50 units\n",
        "\n",
        "  # Generating the entire daily demand, despite the fact that only the first 8 hours \n",
        "  # will be represented by the cosine distribution\n",
        "  y1 = cosine_distribution(frequency, amplitude, phase, bias)\n",
        "\n",
        "  # Generating the first normal distribution, representing demand for the next 8 hours. \n",
        "  # I have choosed mean value equal to 12, since we need the first demand peak value at around 12 hour.\n",
        "  y2 = generate_peak(200, 12, 110)\n",
        "\n",
        "  # Performing the same step for the last 8 hours daily demand. During this time period the demand \n",
        "  # reaches its second peak at around 18 hour.  \n",
        "  y3 = generate_peak(280, 18, 150) \n",
        "\n",
        "  # Definining 3 \"window\" lists containing weight values, which will multiply the daily demand represented by\n",
        "  # the cosine and 2 normal distributions.\n",
        "  # Weights are needed to make a smoother transition between the distributions\n",
        "  # that we generated and also to make the peak more evident.\n",
        "  window_1 = np.array([1] * 8 + [0] * 16)\n",
        "  window_2 = np.array([0] * 8 + [1] * 6 + [1.1, 1.4] + [0] * 8)\n",
        "  window_3 = np.array([0] * 16 + [1] * 8)\n",
        "  \n",
        "  # Multiplying each of the values that we got from each distribution with the respective weights\n",
        "  result_1 = y1 * window_1\n",
        "  result_2 = y2 * window_2\n",
        "  result_3 = y3 * window_3\n",
        "\n",
        "  # Adding the values of 3 lists in order to get the entire daily demand.\n",
        "  final_result = result_1 + result_2 + result_3\n",
        "  final_result = np.round(final_result)\n",
        "  final_result = np.clip(final_result, 0, None)\n",
        "\n",
        "  return final_result, np.max(final_result), np.argmax(final_result)"
      ]
    },
    {
      "cell_type": "code",
      "execution_count": null,
      "metadata": {
        "id": "bIDnouqQ0Zsa"
      },
      "outputs": [],
      "source": [
        "def generate_weekly_demand():\n",
        "  \"\"\"\n",
        "    Generates the weekly demand for car sharing service in a german city. It uses the helper function\n",
        "    defined above and returns 2 Pandas DataFrames, the first one containing the weekly demand values \n",
        "    and the respective hour, while the second only the records corresponding to the maximum demand values\n",
        "    for each day.\n",
        "  \"\"\"\n",
        "\n",
        "  # A list which will contain the hourly demand values for an entire week.\n",
        "  weekly_demand = np.empty((0,))\n",
        "\n",
        "  # A list which will contain the maximum demand value for each day during the week.\n",
        "  top_7_max_demand = np.empty((7,))\n",
        "\n",
        "  # A list which will contain the respective hour/time for the maximum daily demand value.\n",
        "  respective_hours = np.empty((7,))\n",
        "  \n",
        "  for i in range (7):\n",
        "    daily_demand, max_demand_per_day, max_demand_hour = generate_daily_demand()\n",
        "    \n",
        "    weekly_demand = np.concatenate((weekly_demand, daily_demand), axis=0)\n",
        "    \n",
        "    top_7_max_demand[i] = max_demand_per_day\n",
        "    \n",
        "    respective_hours[i] = max_demand_hour + i * 24\n",
        "\n",
        "  # Creating a Pandas DataFrame containing 2 columns, \"Hour\" and \"Demand\" \n",
        "  df = pd.DataFrame({'Hour': np.arange(168), 'Demand': weekly_demand})\n",
        "\n",
        "  # Creating a temporary Pandas DataFrame containing only the points representing max demand within a day\n",
        "  max_daily_demand_df = pd.DataFrame({'Hour': respective_hours, 'Demand': top_7_max_demand})\n",
        "\n",
        "  return df, max_daily_demand_df"
      ]
    },
    {
      "cell_type": "code",
      "execution_count": null,
      "metadata": {
        "id": "H7XYGPrLPIOs"
      },
      "outputs": [],
      "source": [
        "def plot_weekly_demand(df, max_daily_demand_df):\n",
        "  # Create scatter plot using plotly.graph_objects\n",
        "  fig = go.Figure()\n",
        "\n",
        "  # Add scatter trace\n",
        "  fig.add_trace(go.Scatter(\n",
        "      x=df['Hour'],  # x values\n",
        "      y=df['Demand'],  # y values\n",
        "      mode='markers',\n",
        "      marker=dict(color='blue'),  # default marker color\n",
        "      name='Demand vs Hour',  # name of the trace\n",
        "      hovertemplate='Hour: %{customdata}<br>Demand: %{y}<extra></extra>',  # custom hover information\n",
        "      customdata=df['Hour'] % 24  # custom data to display while hovering\n",
        "  ))\n",
        "\n",
        "  # Get indices of data points in temp_df\n",
        "  indices = df.index[df['Hour'].isin(max_daily_demand_df['Hour']) & df['Demand'].isin(max_daily_demand_df['Demand'])].tolist()\n",
        "\n",
        "  # Create a list of colors with 'red' for the data points in temp_df, and 'blue' for the rest\n",
        "  colors = ['red' if i in indices else 'blue' for i in range(len(df))]\n",
        "\n",
        "  # Update marker color in the scatter plot\n",
        "  fig.update_traces(marker=dict(color=colors))\n",
        "\n",
        "  # Add trendline using 'lowess' method\n",
        "  fig.add_trace(go.Scatter(\n",
        "      x=df['Hour'],  # x values\n",
        "      y=df['Demand'],  # y values\n",
        "      mode='lines',\n",
        "      line=dict(color='black'),  # trendline color\n",
        "      name='Trendline',  # name of the trendline trace\n",
        "      xaxis='x',  # use x axis\n",
        "      yaxis='y'  # use y axis\n",
        "  ))\n",
        "\n",
        "  # Set trendline options\n",
        "  fig.update_traces(\n",
        "      line=dict(dash='dash'),  # dash style for trendline\n",
        "      xaxis='x',  # use x axis\n",
        "      yaxis='y'  # use y axis\n",
        "  )\n",
        "\n",
        "  # Set x and y axis titles\n",
        "  fig.update_xaxes(title_text='Hour')\n",
        "  fig.update_yaxes(title_text='Demand')\n",
        "  fig.update_layout(title='Demand vs Hour (Max daily demand in red)')\n",
        "\n",
        "  # Show the plot\n",
        "  fig.show()"
      ]
    },
    {
      "cell_type": "code",
      "execution_count": null,
      "metadata": {
        "id": "gb9HLuEeClys"
      },
      "outputs": [],
      "source": [
        "df, max_daily_demand_df = generate_weekly_demand()\n",
        "\n",
        "plot_weekly_demand(df, max_daily_demand_df)"
      ]
    }
  ],
  "metadata": {
    "colab": {
      "provenance": []
    },
    "kernelspec": {
      "display_name": "Python 3",
      "name": "python3"
    },
    "language_info": {
      "name": "python"
    }
  },
  "nbformat": 4,
  "nbformat_minor": 0
}
