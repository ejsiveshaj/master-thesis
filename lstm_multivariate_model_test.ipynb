{
 "cells": [
  {
   "cell_type": "code",
   "execution_count": null,
   "metadata": {},
   "outputs": [],
   "source": [
    "# Importing the required Python libraries\n",
    "import numpy as np\n",
    "from tensorflow.keras.models import load_model\n",
    "\n",
    "import lstm_model_modules as lmm"
   ]
  },
  {
   "cell_type": "code",
   "execution_count": null,
   "metadata": {},
   "outputs": [],
   "source": [
    "# Preprocessing the testing data coming from the respective csv file\n",
    "testing_file_path = 'test_data.csv'\n",
    "test_data = lmm.preprocess_csv_file(testing_file_path)"
   ]
  },
  {
   "cell_type": "code",
   "execution_count": null,
   "metadata": {},
   "outputs": [],
   "source": [
    "# Getting the scaling factor using the training dataset\n",
    "training_file_path = 'new_train_data.csv'\n",
    "scaler = lmm.return_scaler(training_file_path)\n",
    "\n",
    "# Scaling only the demand feature in the test set\n",
    "test_data['Demand'] *= scaler"
   ]
  },
  {
   "cell_type": "code",
   "execution_count": null,
   "metadata": {},
   "outputs": [],
   "source": [
    "# Converting the test dataset into the input and output for the LSTM model\n",
    "n_future = 1   \n",
    "n_past = 336\n",
    "X_test, Y_test = lmm.create_dataset_updated(test_data, n_future, n_past)"
   ]
  },
  {
   "cell_type": "code",
   "execution_count": null,
   "metadata": {},
   "outputs": [],
   "source": [
    "# Loading the model for testing\n",
    "model = load_model(\"multivariate_lstm_model_weather.h5\")"
   ]
  },
  {
   "cell_type": "code",
   "execution_count": null,
   "metadata": {},
   "outputs": [],
   "source": [
    "# Testing the LSTM model:\n",
    "predictions = model.predict(X_test)\n",
    "\n",
    "# Unscaling the predictions and the real values of the demand\n",
    "predictions /= scaler\n",
    "Y_test /= scaler"
   ]
  },
  {
   "cell_type": "code",
   "execution_count": null,
   "metadata": {},
   "outputs": [],
   "source": [
    "# Calculating the root mean squared error (RMSE):\n",
    "rmse = np.sqrt(np.mean((predictions - Y_test) ** 2))\n",
    "print('Test RMSE: %.2f' % rmse)"
   ]
  },
  {
   "cell_type": "code",
   "execution_count": null,
   "metadata": {},
   "outputs": [],
   "source": [
    "# Plotting real demand values vs the predicted ones.\n",
    "lmm.real_values_vs_predictions(testing_file_path, predictions, n_past)"
   ]
  }
 ],
 "metadata": {
  "language_info": {
   "name": "python"
  },
  "orig_nbformat": 4
 },
 "nbformat": 4,
 "nbformat_minor": 2
}
